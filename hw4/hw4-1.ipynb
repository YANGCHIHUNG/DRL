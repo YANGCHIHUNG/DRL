{
 "cells": [
  {
   "cell_type": "markdown",
   "metadata": {},
   "source": [
    "# HW 4-1"
   ]
  },
  {
   "cell_type": "code",
   "execution_count": 1,
   "metadata": {
    "colab": {
     "base_uri": "https://localhost:8080/",
     "height": 472
    },
    "executionInfo": {
     "elapsed": 1119,
     "status": "ok",
     "timestamp": 1684155997808,
     "user": {
      "displayName": "Huan Chen",
      "userId": "17156785268863777262"
     },
     "user_tz": -480
    },
    "id": "_M0Zl5JnhL5E",
    "outputId": "4f8f3720-ffab-4d8e-fc25-cb0dea538258"
   },
   "outputs": [
    {
     "data": {
      "image/png": "[encoded data removed]",
      "text/plain": [
       "<Figure size 640x480 with 1 Axes>"
      ]
     },
     "metadata": {},
     "output_type": "display_data"
    }
   ],
   "source": [
    "import matplotlib.pyplot as plt\n",
    "import numpy as np\n",
    "\n",
    "# Generate sample data\n",
    "data = np.random.randn(100)\n",
    "\n",
    "# Calculate the mean value\n",
    "mean_value = np.mean(data)\n",
    "\n",
    "# Plot the data with alpha level\n",
    "plt.scatter(range(len(data)), data, alpha=0.5)\n",
    "\n",
    "# Add a horizontal line for the mean value\n",
    "plt.axhline(mean_value, color='red', linestyle='--', label='Mean')\n",
    "\n",
    "# Set plot properties\n",
    "plt.xlabel('Data Points')\n",
    "plt.ylabel('Values')\n",
    "plt.title('Scatter Plot with Mean Value')\n",
    "plt.legend()\n",
    "\n",
    "# Display the plot\n",
    "plt.show()"
   ]
  },
  {
   "cell_type": "markdown",
   "metadata": {
    "id": "zmxNyE4E7JOv"
   },
   "source": [
    "# 程式 3.1: 建立一個Gridworld遊戲"
   ]
  },
  {
   "cell_type": "code",
   "execution_count": null,
   "metadata": {
    "id": "qY8XBySI7BD_"
   },
   "outputs": [],
   "source": [
    "# 下載 Gridworld.py 及 GridBoard.py (-q 是設為安靜模式)\n",
    "!wget -q https://github.com/DeepReinforcementLearning/DeepReinforcementLearningInAction/raw/master/Errata/Gridworld.py\n",
    "!wget -q https://github.com/DeepReinforcementLearning/DeepReinforcementLearningInAction/raw/master/Errata/GridBoard.py\n",
    "\n",
    "from Gridworld import Gridworld\n",
    "game = Gridworld(size=4, mode='static')"
   ]
  },
  {
   "cell_type": "code",
   "execution_count": null,
   "metadata": {
    "colab": {
     "base_uri": "https://localhost:8080/"
    },
    "executionInfo": {
     "elapsed": 16,
     "status": "ok",
     "timestamp": 1684151945245,
     "user": {
      "displayName": "Huan Chen",
      "userId": "17156785268863777262"
     },
     "user_tz": -480
    },
    "id": "f6fXLeu9PCDk",
    "outputId": "fcfcb8a3-3a29-47e5-89a0-f1f31a740864"
   },
   "outputs": [
    {
     "data": {
      "text/plain": [
       "array([['+', '-', ' ', 'P'],\n",
       "       [' ', 'W', ' ', ' '],\n",
       "       [' ', ' ', ' ', ' '],\n",
       "       [' ', ' ', ' ', ' ']], dtype='<U2')"
      ]
     },
     "execution_count": 2,
     "metadata": {},
     "output_type": "execute_result"
    }
   ],
   "source": [
    "game.display()"
   ]
  },
  {
   "cell_type": "code",
   "execution_count": null,
   "metadata": {
    "id": "AqbHh3l4PFIL"
   },
   "outputs": [],
   "source": [
    "game.makeMove('d')"
   ]
  },
  {
   "cell_type": "code",
   "execution_count": null,
   "metadata": {
    "colab": {
     "base_uri": "https://localhost:8080/"
    },
    "executionInfo": {
     "elapsed": 14,
     "status": "ok",
     "timestamp": 1684151945246,
     "user": {
      "displayName": "Huan Chen",
      "userId": "17156785268863777262"
     },
     "user_tz": -480
    },
    "id": "3Dh8L13qPITV",
    "outputId": "ea82f5c8-a36c-420c-d2d4-a75e1491e5b8"
   },
   "outputs": [
    {
     "data": {
      "text/plain": [
       "array([['+', '-', ' ', ' '],\n",
       "       [' ', 'W', ' ', 'P'],\n",
       "       [' ', ' ', ' ', ' '],\n",
       "       [' ', ' ', ' ', ' ']], dtype='<U2')"
      ]
     },
     "execution_count": 4,
     "metadata": {},
     "output_type": "execute_result"
    }
   ],
   "source": [
    "game.display()"
   ]
  },
  {
   "cell_type": "code",
   "execution_count": null,
   "metadata": {
    "colab": {
     "base_uri": "https://localhost:8080/"
    },
    "executionInfo": {
     "elapsed": 12,
     "status": "ok",
     "timestamp": 1684151945246,
     "user": {
      "displayName": "Huan Chen",
      "userId": "17156785268863777262"
     },
     "user_tz": -480
    },
    "id": "vIzrX2QIPKV_",
    "outputId": "4b26a219-0c18-43db-c9e2-a7e8a01e2f9d"
   },
   "outputs": [
    {
     "data": {
      "text/plain": [
       "-1"
      ]
     },
     "execution_count": 5,
     "metadata": {},
     "output_type": "execute_result"
    }
   ],
   "source": [
    "game.reward()"
   ]
  },
  {
   "cell_type": "code",
   "execution_count": null,
   "metadata": {
    "colab": {
     "base_uri": "https://localhost:8080/"
    },
    "executionInfo": {
     "elapsed": 11,
     "status": "ok",
     "timestamp": 1684151945247,
     "user": {
      "displayName": "Huan Chen",
      "userId": "17156785268863777262"
     },
     "user_tz": -480
    },
    "id": "O939tgT_PMtg",
    "outputId": "215c188f-9898-45bd-e858-b97553b606e6"
   },
   "outputs": [
    {
     "data": {
      "text/plain": [
       "array([[[0, 0, 0, 0],\n",
       "        [0, 0, 0, 1],\n",
       "        [0, 0, 0, 0],\n",
       "        [0, 0, 0, 0]],\n",
       "\n",
       "       [[1, 0, 0, 0],\n",
       "        [0, 0, 0, 0],\n",
       "        [0, 0, 0, 0],\n",
       "        [0, 0, 0, 0]],\n",
       "\n",
       "       [[0, 1, 0, 0],\n",
       "        [0, 0, 0, 0],\n",
       "        [0, 0, 0, 0],\n",
       "        [0, 0, 0, 0]],\n",
       "\n",
       "       [[0, 0, 0, 0],\n",
       "        [0, 1, 0, 0],\n",
       "        [0, 0, 0, 0],\n",
       "        [0, 0, 0, 0]]], dtype=uint8)"
      ]
     },
     "execution_count": 6,
     "metadata": {},
     "output_type": "execute_result"
    }
   ],
   "source": [
    "game.board.render_np()"
   ]
  },
  {
   "cell_type": "code",
   "execution_count": null,
   "metadata": {
    "colab": {
     "base_uri": "https://localhost:8080/"
    },
    "executionInfo": {
     "elapsed": 9,
     "status": "ok",
     "timestamp": 1684151945247,
     "user": {
      "displayName": "Huan Chen",
      "userId": "17156785268863777262"
     },
     "user_tz": -480
    },
    "id": "qbHN3c0BPPTN",
    "outputId": "bd75518e-40ab-48ed-84b7-41a1c2439cd9"
   },
   "outputs": [
    {
     "data": {
      "text/plain": [
       "(4, 4, 4)"
      ]
     },
     "execution_count": 7,
     "metadata": {},
     "output_type": "execute_result"
    }
   ],
   "source": [
    "game.board.render_np().shape"
   ]
  },
  {
   "cell_type": "markdown",
   "metadata": {
    "id": "zw1S5VTS7UYL"
   },
   "source": [
    "# 程式 3.2"
   ]
  },
  {
   "cell_type": "code",
   "execution_count": null,
   "metadata": {
    "id": "dCakeOE57Nim"
   },
   "outputs": [],
   "source": [
    "import numpy as np\n",
    "import torch\n",
    "from Gridworld import Gridworld\n",
    "from IPython.display import clear_output\n",
    "import random\n",
    "from matplotlib import pylab as plt\n",
    "\n",
    "L1 = 64 #輸入層的寬度\n",
    "L2 = 150 #第一隱藏層的寬度\n",
    "L3 = 100 #第二隱藏層的寬度\n",
    "L4 = 4 #輸出層的寬度\n",
    "\n",
    "model = torch.nn.Sequential(\n",
    "    torch.nn.Linear(L1, L2), #第一隱藏層的shape \n",
    "    torch.nn.ReLU(),\n",
    "    torch.nn.Linear(L2, L3), #第二隱藏層的shape\n",
    "    torch.nn.ReLU(),\n",
    "    torch.nn.Linear(L3,L4) #輸出層的shape\n",
    ")\n",
    "loss_fn = torch.nn.MSELoss() #指定損失函數為MSE（均方誤差）\n",
    "learning_rate = 1e-3  #設定學習率\n",
    "optimizer = torch.optim.Adam(model.parameters(), lr=learning_rate) #指定優化器為Adam，其中model.parameters會傳回所有要優化的權重參數\n",
    "\n",
    "gamma = 0.9 #折扣因子\n",
    "epsilon = 1.0"
   ]
  },
  {
   "cell_type": "markdown",
   "metadata": {
    "id": "m5CbgQa9722M"
   },
   "source": [
    "##將動作的字母與數字對應起來"
   ]
  },
  {
   "cell_type": "code",
   "execution_count": null,
   "metadata": {
    "id": "JFCNox0t70pm"
   },
   "outputs": [],
   "source": [
    "action_set = {\n",
    "\t0: 'u', #『0』代表『向上』\n",
    "\t1: 'd', #『1』代表『向下』\n",
    "\t2: 'l', #『2』代表『向左』\n",
    "\t3: 'r' #『3』代表『向右』\n",
    "}"
   ]
  },
  {
   "cell_type": "markdown",
   "metadata": {
    "id": "Wyf3WzHN7cTl"
   },
   "source": [
    "# 程式 3.3: 主要訓練迴圈"
   ]
  },
  {
   "cell_type": "code",
   "execution_count": null,
   "metadata": {
    "colab": {
     "base_uri": "https://localhost:8080/",
     "height": 637
    },
    "executionInfo": {
     "elapsed": 36858,
     "status": "ok",
     "timestamp": 1684151986182,
     "user": {
      "displayName": "Huan Chen",
      "userId": "17156785268863777262"
     },
     "user_tz": -480
    },
    "id": "ON1ki8_u7evr",
    "outputId": "030d2d08-a846-4cda-835d-36ef52882bde"
   },
   "outputs": [
    {
     "data": {
      "text/plain": [
       "Text(0, 0.5, 'Loss')"
      ]
     },
     "execution_count": 10,
     "metadata": {},
     "output_type": "execute_result"
    },
    {
     "data": {
      "image/png": "[encoded data removed]",
      "text/plain": [
       "<Figure size 1000x700 with 1 Axes>"
      ]
     },
     "metadata": {},
     "output_type": "display_data"
    }
   ],
   "source": [
    "epochs = 1000\n",
    "losses = [] #使用串列將每一次的loss記錄下來，方便之後將loss的變化趨勢畫成圖\n",
    "for i in range(epochs):\n",
    "# 註解1: \n",
    "  game = Gridworld(size=4, mode='static')\n",
    "  state_ = game.board.render_np().reshape(1,64) + np.random.rand(1,64)/10.0 #將3階的狀態陣列（4x4x4）轉換成向量（長度為64），並將每個值都加上一些雜訊（很小的數值）。\t\n",
    "  state1 = torch.from_numpy(state_).float() #將NumPy陣列轉換成PyTorch張量，並存於state1中\n",
    "  status = 1 #用來追蹤遊戲是否仍在繼續（『1』代表仍在繼續）\n",
    "  while(status == 1):\n",
    "    qval = model(state1) #執行Q網路，取得所有動作的預測Q值\n",
    "    qval_ = qval.data.numpy() #將qval轉換成NumPy陣列\n",
    "    if (random.random() < epsilon): \n",
    "      action_ = np.random.randint(0,4) #隨機選擇一個動作（探索）\n",
    "    else:\n",
    "      action_ = np.argmax(qval_) #選擇Q值最大的動作（探索）        \n",
    "    action = action_set[action_] #將代表某動作的數字對應到makeMove()的英文字母\n",
    "    game.makeMove(action) #執行之前ε—貪婪策略所選出的動作 \n",
    "    state2_ = game.board.render_np().reshape(1,64) + np.random.rand(1,64)/10.0\n",
    "    state2 = torch.from_numpy(state2_).float() #動作執行完畢，取得遊戲的新狀態並轉換成張量\n",
    "    reward = game.reward()\n",
    "    with torch.no_grad(): \n",
    "      newQ = model(state2.reshape(1,64))\n",
    "    maxQ = torch.max(newQ) #將新狀態下所輸出的Q值向量中的最大值給記錄下來\n",
    "    if reward == -1:\n",
    "      Y = reward + (gamma * maxQ)  #計算訓練所用的目標Q值\n",
    "    else: #若reward不等於-1，代表遊戲已經結束，也就沒有下一個狀態了，因此目標Q值就等於回饋值\n",
    "      Y = reward\n",
    "    Y = torch.Tensor([Y]).detach() \n",
    "    X = qval.squeeze()[action_] #將演算法對執行的動作所預測的Q值存進X，並使用squeeze()將qval中維度為1的階去掉 (shape[1,4]會變成[4])\n",
    "    loss = loss_fn(X, Y) #計算目標Q值與預測Q值之間的誤差\n",
    "    if i%100 == 0:\n",
    "      print(i, loss.item())\n",
    "      clear_output(wait=True)\n",
    "    optimizer.zero_grad()\n",
    "    loss.backward()\n",
    "    optimizer.step()\n",
    "    state1 = state2\n",
    "    if abs(reward) == 10:       \n",
    "      status = 0 # 若 reward 的絕對值為10，代表遊戲已經分出勝負，所以設status為0  \n",
    "  losses.append(loss.item())\n",
    "  if epsilon > 0.1: \n",
    "    epsilon -= (1/epochs) #讓ε的值隨著訓練的進行而慢慢下降，直到0.1（還是要保留探索的動作）\n",
    "plt.figure(figsize=(10,7))\n",
    "plt.plot(losses)\n",
    "plt.xlabel(\"Epochs\",fontsize=11)\n",
    "plt.ylabel(\"Loss\",fontsize=11)"
   ]
  },
  {
   "cell_type": "markdown",
   "metadata": {
    "id": "vCzLJHar6dTv"
   },
   "source": [
    "##torch.no_grad的效果說明"
   ]
  },
  {
   "cell_type": "code",
   "execution_count": null,
   "metadata": {
    "colab": {
     "base_uri": "https://localhost:8080/"
    },
    "executionInfo": {
     "elapsed": 5,
     "status": "ok",
     "timestamp": 1684151986183,
     "user": {
      "displayName": "Huan Chen",
      "userId": "17156785268863777262"
     },
     "user_tz": -480
    },
    "id": "soIJ2zfr6eNj",
    "outputId": "218a9d8d-32e7-4afa-fb06-16fa3b56fcb7"
   },
   "outputs": [
    {
     "data": {
      "text/plain": [
       "tensor([9.], grad_fn=<AddBackward0>)"
      ]
     },
     "execution_count": 11,
     "metadata": {},
     "output_type": "execute_result"
    }
   ],
   "source": [
    "m = torch.Tensor([2.0])\n",
    "m.requires_grad=True\n",
    "b = torch.Tensor([1.0]) \n",
    "b.requires_grad=True\n",
    "def linear_model(x,m,b):\n",
    "  y = m*x + b\n",
    "  return y\n",
    "y = linear_model(torch.Tensor([4.]),m,b)\n",
    "y"
   ]
  },
  {
   "cell_type": "code",
   "execution_count": null,
   "metadata": {
    "colab": {
     "base_uri": "https://localhost:8080/"
    },
    "executionInfo": {
     "elapsed": 1024,
     "status": "ok",
     "timestamp": 1684151987204,
     "user": {
      "displayName": "Huan Chen",
      "userId": "17156785268863777262"
     },
     "user_tz": -480
    },
    "id": "EEJeqyw_6kz1",
    "outputId": "813e8b22-27e9-449f-959c-af71dd0dc17b"
   },
   "outputs": [
    {
     "data": {
      "text/plain": [
       "<AddBackward0 at 0x7eff91422350>"
      ]
     },
     "execution_count": 12,
     "metadata": {},
     "output_type": "execute_result"
    }
   ],
   "source": [
    "y.grad_fn"
   ]
  },
  {
   "cell_type": "code",
   "execution_count": null,
   "metadata": {
    "colab": {
     "base_uri": "https://localhost:8080/"
    },
    "executionInfo": {
     "elapsed": 15,
     "status": "ok",
     "timestamp": 1684151987204,
     "user": {
      "displayName": "Huan Chen",
      "userId": "17156785268863777262"
     },
     "user_tz": -480
    },
    "id": "4LRt_7Pp6lb6",
    "outputId": "b9172a07-80f7-4222-c937-d425953b9874"
   },
   "outputs": [
    {
     "data": {
      "text/plain": [
       "tensor([9.])"
      ]
     },
     "execution_count": 13,
     "metadata": {},
     "output_type": "execute_result"
    }
   ],
   "source": [
    "with torch.no_grad(): \n",
    "  y = linear_model(torch.Tensor([4.]),m,b)\n",
    "y"
   ]
  },
  {
   "cell_type": "code",
   "execution_count": null,
   "metadata": {
    "id": "yjFsDFxt6mvp"
   },
   "outputs": [],
   "source": [
    "y.grad_fn"
   ]
  },
  {
   "cell_type": "code",
   "execution_count": null,
   "metadata": {
    "colab": {
     "base_uri": "https://localhost:8080/"
    },
    "executionInfo": {
     "elapsed": 14,
     "status": "ok",
     "timestamp": 1684151987205,
     "user": {
      "displayName": "Huan Chen",
      "userId": "17156785268863777262"
     },
     "user_tz": -480
    },
    "id": "zvaP0_i_6oA8",
    "outputId": "6cc8be69-0855-4b81-9ec0-b11e34a1d8a5"
   },
   "outputs": [
    {
     "data": {
      "text/plain": [
       "tensor([4.])"
      ]
     },
     "execution_count": 15,
     "metadata": {},
     "output_type": "execute_result"
    }
   ],
   "source": [
    "y = linear_model(torch.Tensor([4.]),m,b)\n",
    "y.backward()\n",
    "m.grad"
   ]
  },
  {
   "cell_type": "code",
   "execution_count": null,
   "metadata": {
    "colab": {
     "base_uri": "https://localhost:8080/"
    },
    "executionInfo": {
     "elapsed": 12,
     "status": "ok",
     "timestamp": 1684151987205,
     "user": {
      "displayName": "Huan Chen",
      "userId": "17156785268863777262"
     },
     "user_tz": -480
    },
    "id": "rUj7NF-w6pXT",
    "outputId": "960a057a-86d0-472b-f721-c66f402ec31b"
   },
   "outputs": [
    {
     "data": {
      "text/plain": [
       "tensor([1.])"
      ]
     },
     "execution_count": 16,
     "metadata": {},
     "output_type": "execute_result"
    }
   ],
   "source": [
    "b.grad"
   ]
  },
  {
   "cell_type": "markdown",
   "metadata": {
    "id": "lBCx5EBK8Rl_"
   },
   "source": [
    "# 程式 3.4： 測試Q網路"
   ]
  },
  {
   "cell_type": "code",
   "execution_count": null,
   "metadata": {
    "id": "vH3MSgju8V3O"
   },
   "outputs": [],
   "source": [
    "def test_model(model, mode='static', display=True):\n",
    "    i = 0\n",
    "    test_game = Gridworld(size=4, mode=mode) #產生一場測試遊戲\n",
    "    state_ = test_game.board.render_np().reshape(1,64) + np.random.rand(1,64)/10.0\n",
    "    state = torch.from_numpy(state_).float()\n",
    "    if display:\n",
    "      print(\"Initial State:\")\n",
    "      print(test_game.display())\n",
    "    status = 1\n",
    "    while(status == 1): #遊戲仍在進行\n",
    "      qval = model(state)\n",
    "      qval_ = qval.data.numpy()\n",
    "      action_ = np.argmax(qval_) \n",
    "      action = action_set[action_]\n",
    "      if display:\n",
    "        print('Move #: %s; Taking action: %s' % (i, action))\n",
    "      test_game.makeMove(action)\n",
    "      state_ = test_game.board.render_np().reshape(1,64) + np.random.rand(1,64)/10.0\n",
    "      state = torch.from_numpy(state_).float()\n",
    "      if display:\n",
    "        print(test_game.display())\n",
    "      reward = test_game.reward()\n",
    "      if reward != -1: #代表勝利（抵達終點）或落敗（掉入陷阱）\n",
    "        if reward > 0: #reward>0，代表成功抵達終點\n",
    "          status = 2 #將狀態設為2，跳出迴圈\n",
    "          if display:\n",
    "            print(\"Game won! Reward: %s\" %reward)\n",
    "          else: #掉入陷阱\n",
    "            status = 0 #將狀態設為0，跳出迴圈\n",
    "            if display:\n",
    "              print(\"Game LOST. Reward: %s\" %reward)\n",
    "      i += 1 #每移動一步，i就加1\n",
    "      if (i > 15): #若移動了15步，仍未取出勝利，則一樣視為落敗\n",
    "        if display:\n",
    "          print(\"Game lost; too many moves.\")\n",
    "        break    \n",
    "    win = True if status == 2 else False\n",
    "    print(win)\n",
    "    return win"
   ]
  },
  {
   "cell_type": "markdown",
   "metadata": {
    "id": "tzHFGc2C8dgq"
   },
   "source": [
    "## 測試模型（static mode)"
   ]
  },
  {
   "cell_type": "code",
   "execution_count": null,
   "metadata": {
    "colab": {
     "base_uri": "https://localhost:8080/"
    },
    "executionInfo": {
     "elapsed": 10,
     "status": "ok",
     "timestamp": 1684151987205,
     "user": {
      "displayName": "Huan Chen",
      "userId": "17156785268863777262"
     },
     "user_tz": -480
    },
    "id": "GvFLVpKv8luG",
    "outputId": "4be1f607-0ffb-47e9-c4f6-c093fd866085"
   },
   "outputs": [
    {
     "name": "stdout",
     "output_type": "stream",
     "text": [
      "Initial State:\n",
      "[['+' '-' ' ' 'P']\n",
      " [' ' 'W' ' ' ' ']\n",
      " [' ' ' ' ' ' ' ']\n",
      " [' ' ' ' ' ' ' ']]\n",
      "Move #: 0; Taking action: d\n",
      "[['+' '-' ' ' ' ']\n",
      " [' ' 'W' ' ' 'P']\n",
      " [' ' ' ' ' ' ' ']\n",
      " [' ' ' ' ' ' ' ']]\n",
      "Move #: 1; Taking action: l\n",
      "[['+' '-' ' ' ' ']\n",
      " [' ' 'W' 'P' ' ']\n",
      " [' ' ' ' ' ' ' ']\n",
      " [' ' ' ' ' ' ' ']]\n",
      "Move #: 2; Taking action: d\n",
      "[['+' '-' ' ' ' ']\n",
      " [' ' 'W' ' ' ' ']\n",
      " [' ' ' ' 'P' ' ']\n",
      " [' ' ' ' ' ' ' ']]\n",
      "Move #: 3; Taking action: l\n",
      "[['+' '-' ' ' ' ']\n",
      " [' ' 'W' ' ' ' ']\n",
      " [' ' 'P' ' ' ' ']\n",
      " [' ' ' ' ' ' ' ']]\n",
      "Move #: 4; Taking action: l\n",
      "[['+' '-' ' ' ' ']\n",
      " [' ' 'W' ' ' ' ']\n",
      " ['P' ' ' ' ' ' ']\n",
      " [' ' ' ' ' ' ' ']]\n",
      "Move #: 5; Taking action: u\n",
      "[['+' '-' ' ' ' ']\n",
      " ['P' 'W' ' ' ' ']\n",
      " [' ' ' ' ' ' ' ']\n",
      " [' ' ' ' ' ' ' ']]\n",
      "Move #: 6; Taking action: u\n",
      "[['+' '-' ' ' ' ']\n",
      " [' ' 'W' ' ' ' ']\n",
      " [' ' ' ' ' ' ' ']\n",
      " [' ' ' ' ' ' ' ']]\n",
      "Game won! Reward: 10\n",
      "True\n"
     ]
    },
    {
     "data": {
      "text/plain": [
       "True"
      ]
     },
     "execution_count": 18,
     "metadata": {},
     "output_type": "execute_result"
    }
   ],
   "source": [
    "test_model(model, 'static')"
   ]
  },
  {
   "cell_type": "markdown",
   "metadata": {
    "id": "eeKjgl_F8sCF"
   },
   "source": [
    "## 測試模型 (random mode）"
   ]
  },
  {
   "cell_type": "code",
   "execution_count": null,
   "metadata": {
    "colab": {
     "base_uri": "https://localhost:8080/"
    },
    "executionInfo": {
     "elapsed": 10,
     "status": "ok",
     "timestamp": 1684151987206,
     "user": {
      "displayName": "Huan Chen",
      "userId": "17156785268863777262"
     },
     "user_tz": -480
    },
    "id": "V_ZmSKnk80EE",
    "outputId": "f41a4ce1-6e0f-481b-bb61-f94e4b86a7eb"
   },
   "outputs": [
    {
     "name": "stdout",
     "output_type": "stream",
     "text": [
      "Initial State:\n",
      "[[' ' ' ' ' ' ' ']\n",
      " [' ' ' ' 'P' ' ']\n",
      " ['-' ' ' ' ' ' ']\n",
      " ['W' ' ' '+' ' ']]\n",
      "Move #: 0; Taking action: d\n",
      "[[' ' ' ' ' ' ' ']\n",
      " [' ' ' ' ' ' ' ']\n",
      " ['-' ' ' 'P' ' ']\n",
      " ['W' ' ' '+' ' ']]\n",
      "Move #: 1; Taking action: l\n",
      "[[' ' ' ' ' ' ' ']\n",
      " [' ' ' ' ' ' ' ']\n",
      " ['-' 'P' ' ' ' ']\n",
      " ['W' ' ' '+' ' ']]\n",
      "Move #: 2; Taking action: l\n",
      "[[' ' ' ' ' ' ' ']\n",
      " [' ' ' ' ' ' ' ']\n",
      " ['-' ' ' ' ' ' ']\n",
      " ['W' ' ' '+' ' ']]\n",
      "Move #: 3; Taking action: u\n",
      "[[' ' ' ' ' ' ' ']\n",
      " ['P' ' ' ' ' ' ']\n",
      " ['-' ' ' ' ' ' ']\n",
      " ['W' ' ' '+' ' ']]\n",
      "Move #: 4; Taking action: u\n",
      "[['P' ' ' ' ' ' ']\n",
      " [' ' ' ' ' ' ' ']\n",
      " ['-' ' ' ' ' ' ']\n",
      " ['W' ' ' '+' ' ']]\n",
      "Move #: 5; Taking action: d\n",
      "[[' ' ' ' ' ' ' ']\n",
      " ['P' ' ' ' ' ' ']\n",
      " ['-' ' ' ' ' ' ']\n",
      " ['W' ' ' '+' ' ']]\n",
      "Move #: 6; Taking action: u\n",
      "[['P' ' ' ' ' ' ']\n",
      " [' ' ' ' ' ' ' ']\n",
      " ['-' ' ' ' ' ' ']\n",
      " ['W' ' ' '+' ' ']]\n",
      "Move #: 7; Taking action: d\n",
      "[[' ' ' ' ' ' ' ']\n",
      " ['P' ' ' ' ' ' ']\n",
      " ['-' ' ' ' ' ' ']\n",
      " ['W' ' ' '+' ' ']]\n",
      "Move #: 8; Taking action: u\n",
      "[['P' ' ' ' ' ' ']\n",
      " [' ' ' ' ' ' ' ']\n",
      " ['-' ' ' ' ' ' ']\n",
      " ['W' ' ' '+' ' ']]\n",
      "Move #: 9; Taking action: d\n",
      "[[' ' ' ' ' ' ' ']\n",
      " ['P' ' ' ' ' ' ']\n",
      " ['-' ' ' ' ' ' ']\n",
      " ['W' ' ' '+' ' ']]\n",
      "Move #: 10; Taking action: u\n",
      "[['P' ' ' ' ' ' ']\n",
      " [' ' ' ' ' ' ' ']\n",
      " ['-' ' ' ' ' ' ']\n",
      " ['W' ' ' '+' ' ']]\n",
      "Move #: 11; Taking action: d\n",
      "[[' ' ' ' ' ' ' ']\n",
      " ['P' ' ' ' ' ' ']\n",
      " ['-' ' ' ' ' ' ']\n",
      " ['W' ' ' '+' ' ']]\n",
      "Move #: 12; Taking action: u\n",
      "[['P' ' ' ' ' ' ']\n",
      " [' ' ' ' ' ' ' ']\n",
      " ['-' ' ' ' ' ' ']\n",
      " ['W' ' ' '+' ' ']]\n",
      "Move #: 13; Taking action: d\n",
      "[[' ' ' ' ' ' ' ']\n",
      " ['P' ' ' ' ' ' ']\n",
      " ['-' ' ' ' ' ' ']\n",
      " ['W' ' ' '+' ' ']]\n",
      "Move #: 14; Taking action: u\n",
      "[['P' ' ' ' ' ' ']\n",
      " [' ' ' ' ' ' ' ']\n",
      " ['-' ' ' ' ' ' ']\n",
      " ['W' ' ' '+' ' ']]\n",
      "Move #: 15; Taking action: d\n",
      "[[' ' ' ' ' ' ' ']\n",
      " ['P' ' ' ' ' ' ']\n",
      " ['-' ' ' ' ' ' ']\n",
      " ['W' ' ' '+' ' ']]\n",
      "Game lost; too many moves.\n",
      "False\n"
     ]
    },
    {
     "data": {
      "text/plain": [
       "False"
      ]
     },
     "execution_count": 19,
     "metadata": {},
     "output_type": "execute_result"
    }
   ],
   "source": [
    "test_model(model, 'random') #將游戲的生成模式改成random，再次測試模型"
   ]
  },
  {
   "cell_type": "markdown",
   "metadata": {
    "id": "bO01FQI41mrX"
   },
   "source": [
    "## 將程式3.3的遊戲生成模式改成random，並進行1000次訓練"
   ]
  },
  {
   "cell_type": "code",
   "execution_count": null,
   "metadata": {
    "colab": {
     "base_uri": "https://localhost:8080/",
     "height": 637
    },
    "executionInfo": {
     "elapsed": 85230,
     "status": "ok",
     "timestamp": 1684152072428,
     "user": {
      "displayName": "Huan Chen",
      "userId": "17156785268863777262"
     },
     "user_tz": -480
    },
    "id": "nIczocsl11q0",
    "outputId": "857d96d0-cdf5-44bf-e87e-7c8f72931a77"
   },
   "outputs": [
    {
     "data": {
      "text/plain": [
       "Text(0, 0.5, 'Loss')"
      ]
     },
     "execution_count": 20,
     "metadata": {},
     "output_type": "execute_result"
    },
    {
     "data": {
      "image/png": "[encoded data removed]",
      "text/plain": [
       "<Figure size 1000x700 with 1 Axes>"
      ]
     },
     "metadata": {},
     "output_type": "display_data"
    }
   ],
   "source": [
    "epochs = 1000\n",
    "losses = [] #使用串列將每一次的loss記錄下來，方便之後將loss的變化趨勢畫成圖\n",
    "for i in range(epochs):\n",
    "  game = Gridworld(size=4, mode='random')\n",
    "  state_ = game.board.render_np().reshape(1,64) + np.random.rand(1,64)/10.0 #將3階的狀態陣列（4x4x4）轉換成向量（長度為64），並將每個值都加上一些雜訊（很小的數值）。\t\n",
    "  state1 = torch.from_numpy(state_).float() #將NumPy陣列轉換成PyTorch張量，並存於state1中\n",
    "  status = 1 #用來追蹤遊戲是否仍在繼續（『1』代表仍在繼續）\n",
    "  while(status == 1):\n",
    "    qval = model(state1) #執行Q網路，取得所有動作的預測Q值\n",
    "    qval_ = qval.data.numpy() #將qval轉換成NumPy陣列\n",
    "    if (random.random() < epsilon): \n",
    "      action_ = np.random.randint(0,4) #隨機選擇一個動作（探索）\n",
    "    else:\n",
    "      action_ = np.argmax(qval_) #選擇Q值最大的動作（探索）        \n",
    "    action = action_set[action_] #將代表某動作的數字對應到makeMove()的英文字母\n",
    "    game.makeMove(action) #執行之前ε—貪婪策略所選出的動作 \n",
    "    state2_ = game.board.render_np().reshape(1,64) + np.random.rand(1,64)/10.0\n",
    "    state2 = torch.from_numpy(state2_).float() #動作執行完畢，取得遊戲的新狀態並轉換成張量\n",
    "    reward = game.reward()\n",
    "    with torch.no_grad(): \n",
    "      newQ = model(state2.reshape(1,64))\n",
    "    maxQ = torch.max(newQ) #將新狀態下所輸出的Q值向量中的最大值給記錄下來\n",
    "    if reward == -1:\n",
    "      Y = reward + (gamma * maxQ)  #計算訓練所用的目標Q值\n",
    "    else: #若reward不等於-1，代表遊戲已經結束，也就沒有下一個狀態了，因此目標Q值就等於回饋值\n",
    "      Y = reward\n",
    "    Y = torch.Tensor([Y]).detach() \n",
    "    X = qval.squeeze()[action_] #將演算法對執行的動作所預測的Q值存進X，並使用squeeze()將qval中維度為1的階去掉 (shape[1,4]會變成[4])\n",
    "    loss = loss_fn(X, Y) #計算目標Q值與預測Q值之間的誤差\n",
    "    if i%100 == 0:\n",
    "      print(i, loss.item())\n",
    "      clear_output(wait=True)\n",
    "    optimizer.zero_grad()\n",
    "    loss.backward()\n",
    "    optimizer.step()\n",
    "    state1 = state2\n",
    "    if abs(reward) == 10:       \n",
    "      status = 0 # 若 reward 的絕對值為10，代表遊戲已經分出勝負，所以設status為0  \n",
    "  losses.append(loss.item())\n",
    "  if epsilon > 0.1: \n",
    "    epsilon -= (1/epochs) #讓ε的值隨著訓練的進行而慢慢下降，直到0.1（還是要保留探索的動作）\n",
    "plt.figure(figsize=(10,7))\n",
    "plt.plot(losses)\n",
    "plt.xlabel(\"Epochs\",fontsize=11)\n",
    "plt.ylabel(\"Loss\",fontsize=11)"
   ]
  },
  {
   "cell_type": "markdown",
   "metadata": {
    "id": "jzHrfQQQ64_b"
   },
   "source": [
    "## 將程式3.3的遊戲生成模式改成player，並進行1000次訓練"
   ]
  },
  {
   "cell_type": "code",
   "execution_count": null,
   "metadata": {
    "colab": {
     "base_uri": "https://localhost:8080/",
     "height": 637
    },
    "executionInfo": {
     "elapsed": 12016,
     "status": "ok",
     "timestamp": 1684152084427,
     "user": {
      "displayName": "Huan Chen",
      "userId": "17156785268863777262"
     },
     "user_tz": -480
    },
    "id": "jdVFsjRP66Wq",
    "outputId": "f4c48f05-ea8b-480f-8770-9b8102c4aced"
   },
   "outputs": [
    {
     "data": {
      "text/plain": [
       "Text(0, 0.5, 'Loss')"
      ]
     },
     "execution_count": 21,
     "metadata": {},
     "output_type": "execute_result"
    },
    {
     "data": {
      "image/png": "[encoded data removed]",
      "text/plain": [
       "<Figure size 1000x700 with 1 Axes>"
      ]
     },
     "metadata": {},
     "output_type": "display_data"
    }
   ],
   "source": [
    "epochs = 1000\n",
    "losses = [] #使用串列將每一次的loss記錄下來，方便之後將loss的變化趨勢畫成圖\n",
    "for i in range(epochs):\n",
    "  game = Gridworld(size=4, mode='player')\n",
    "  state_ = game.board.render_np().reshape(1,64) + np.random.rand(1,64)/10.0 #將3階的狀態陣列（4x4x4）轉換成向量（長度為64），並將每個值都加上一些雜訊（很小的數值）。\t\n",
    "  state1 = torch.from_numpy(state_).float() #將NumPy陣列轉換成PyTorch張量，並存於state1中\n",
    "  status = 1 #用來追蹤遊戲是否仍在繼續（『1』代表仍在繼續）\n",
    "  while(status == 1):\n",
    "    qval = model(state1) #執行Q網路，取得所有動作的預測Q值\n",
    "    qval_ = qval.data.numpy() #將qval轉換成NumPy陣列\n",
    "    if (random.random() < epsilon): \n",
    "      action_ = np.random.randint(0,4) #隨機選擇一個動作（探索）\n",
    "    else:\n",
    "      action_ = np.argmax(qval_) #選擇Q值最大的動作（探索）        \n",
    "    action = action_set[action_] #將代表某動作的數字對應到makeMove()的英文字母\n",
    "    game.makeMove(action) #執行之前ε—貪婪策略所選出的動作 \n",
    "    state2_ = game.board.render_np().reshape(1,64) + np.random.rand(1,64)/10.0\n",
    "    state2 = torch.from_numpy(state2_).float() #動作執行完畢，取得遊戲的新狀態並轉換成張量\n",
    "    reward = game.reward()\n",
    "    with torch.no_grad(): \n",
    "      newQ = model(state2.reshape(1,64))\n",
    "    maxQ = torch.max(newQ) #將新狀態下所輸出的Q值向量中的最大值給記錄下來\n",
    "    if reward == -1:\n",
    "      Y = reward + (gamma * maxQ)  #計算訓練所用的目標Q值\n",
    "    else: #若reward不等於-1，代表遊戲已經結束，也就沒有下一個狀態了，因此目標Q值就等於回饋值\n",
    "      Y = reward\n",
    "    Y = torch.Tensor([Y]).detach() \n",
    "    X = qval.squeeze()[action_] #將演算法對執行的動作所預測的Q值存進X，並使用squeeze()將qval中維度為1的階去掉 (shape[1,4]會變成[4])\n",
    "    loss = loss_fn(X, Y) #計算目標Q值與預測Q值之間的誤差\n",
    "    if i%100 == 0:\n",
    "      print(i, loss.item())\n",
    "      clear_output(wait=True)\n",
    "    optimizer.zero_grad()\n",
    "    loss.backward()\n",
    "    optimizer.step()\n",
    "    state1 = state2\n",
    "    if abs(reward) == 10:       \n",
    "      status = 0 # 若 reward 的絕對值為10，代表遊戲已經分出勝負，所以設status為0  \n",
    "  losses.append(loss.item())\n",
    "  if epsilon > 0.1: \n",
    "    epsilon -= (1/epochs) #讓ε的值隨著訓練的進行而慢慢下降，直到0.1（還是要保留探索的動作）\n",
    "plt.figure(figsize=(10,7))\n",
    "plt.plot(losses)\n",
    "plt.xlabel(\"Epochs\",fontsize=11)\n",
    "plt.ylabel(\"Loss\",fontsize=11)"
   ]
  },
  {
   "cell_type": "markdown",
   "metadata": {
    "id": "mT2g6q1U9a3i"
   },
   "source": [
    "## 重建模型（同程式3.2）"
   ]
  },
  {
   "cell_type": "code",
   "execution_count": null,
   "metadata": {
    "id": "1ETE2OGN9iuP"
   },
   "outputs": [],
   "source": [
    "import numpy as np\n",
    "import torch\n",
    "from Gridworld import Gridworld\n",
    "from IPython.display import clear_output\n",
    "import random\n",
    "from matplotlib import pylab as plt\n",
    "\n",
    "L1 = 64 #輸入層的寬度\n",
    "L2 = 150 #第一隱藏層的寬度\n",
    "L3 = 100 #第二隱藏層的寬度\n",
    "L4 = 4 #輸出層的寬度\n",
    "\n",
    "model = torch.nn.Sequential(\n",
    "    torch.nn.Linear(L1, L2), #第一隱藏層的shape \n",
    "    torch.nn.ReLU(),\n",
    "    torch.nn.Linear(L2, L3), #第二隱藏層的shape\n",
    "    torch.nn.ReLU(),\n",
    "    torch.nn.Linear(L3,L4) #輸出層的shape\n",
    ")\n",
    "loss_fn = torch.nn.MSELoss() #指定損失函數為MSE（均方誤差）\n",
    "learning_rate = 1e-3  #設定學習率\n",
    "optimizer = torch.optim.Adam(model.parameters(), lr=learning_rate) #指定優化器為Adam，其中model.parameters會傳回所有要優化的權重參數\n",
    "\n",
    "gamma = 0.9 #折扣因子\n",
    "epsilon = 1.0"
   ]
  },
  {
   "cell_type": "markdown",
   "metadata": {
    "id": "7HjNKArD88bx"
   },
   "source": [
    "# 程式 3.5: 包含經驗回放的DQN"
   ]
  },
  {
   "cell_type": "code",
   "execution_count": null,
   "metadata": {
    "colab": {
     "base_uri": "https://localhost:8080/",
     "height": 399
    },
    "executionInfo": {
     "elapsed": 131253,
     "status": "error",
     "timestamp": 1684152215656,
     "user": {
      "displayName": "Huan Chen",
      "userId": "17156785268863777262"
     },
     "user_tz": -480
    },
    "id": "PUt8NSvH9CbS",
    "outputId": "4ed84c95-b65d-45d5-ba3e-a28404c371ed"
   },
   "outputs": [
    {
     "ename": "KeyboardInterrupt",
     "evalue": "ignored",
     "output_type": "error",
     "traceback": [
      "\u001b[0;31m---------------------------------------------------------------------------\u001b[0m",
      "\u001b[0;31mKeyboardInterrupt\u001b[0m                         Traceback (most recent call last)",
      "\u001b[0;32m<ipython-input-23-fd869735db46>\u001b[0m in \u001b[0;36m<cell line: 8>\u001b[0;34m()\u001b[0m\n\u001b[1;32m     46\u001b[0m       \u001b[0moptimizer\u001b[0m\u001b[0;34m.\u001b[0m\u001b[0mzero_grad\u001b[0m\u001b[0;34m(\u001b[0m\u001b[0;34m)\u001b[0m\u001b[0;34m\u001b[0m\u001b[0;34m\u001b[0m\u001b[0m\n\u001b[1;32m     47\u001b[0m       \u001b[0mloss\u001b[0m\u001b[0;34m.\u001b[0m\u001b[0mbackward\u001b[0m\u001b[0;34m(\u001b[0m\u001b[0;34m)\u001b[0m\u001b[0;34m\u001b[0m\u001b[0;34m\u001b[0m\u001b[0m\n\u001b[0;32m---> 48\u001b[0;31m       \u001b[0moptimizer\u001b[0m\u001b[0;34m.\u001b[0m\u001b[0mstep\u001b[0m\u001b[0;34m(\u001b[0m\u001b[0;34m)\u001b[0m\u001b[0;34m\u001b[0m\u001b[0;34m\u001b[0m\u001b[0m\n\u001b[0m\u001b[1;32m     49\u001b[0m     \u001b[0;32mif\u001b[0m \u001b[0mabs\u001b[0m\u001b[0;34m(\u001b[0m\u001b[0mreward\u001b[0m\u001b[0;34m)\u001b[0m \u001b[0;34m==\u001b[0m \u001b[0;36m10\u001b[0m \u001b[0;32mor\u001b[0m \u001b[0mmov\u001b[0m \u001b[0;34m>\u001b[0m \u001b[0mmax_moves\u001b[0m\u001b[0;34m:\u001b[0m\u001b[0;34m\u001b[0m\u001b[0;34m\u001b[0m\u001b[0m\n\u001b[1;32m     50\u001b[0m       \u001b[0mstatus\u001b[0m \u001b[0;34m=\u001b[0m \u001b[0;36m0\u001b[0m\u001b[0;34m\u001b[0m\u001b[0;34m\u001b[0m\u001b[0m\n",
      "\u001b[0;32m/usr/local/lib/python3.10/dist-packages/torch/optim/optimizer.py\u001b[0m in \u001b[0;36mwrapper\u001b[0;34m(*args, **kwargs)\u001b[0m\n\u001b[1;32m    278\u001b[0m                                                f\"but got {result}.\")\n\u001b[1;32m    279\u001b[0m \u001b[0;34m\u001b[0m\u001b[0m\n\u001b[0;32m--> 280\u001b[0;31m                 \u001b[0mout\u001b[0m \u001b[0;34m=\u001b[0m \u001b[0mfunc\u001b[0m\u001b[0;34m(\u001b[0m\u001b[0;34m*\u001b[0m\u001b[0margs\u001b[0m\u001b[0;34m,\u001b[0m \u001b[0;34m**\u001b[0m\u001b[0mkwargs\u001b[0m\u001b[0;34m)\u001b[0m\u001b[0;34m\u001b[0m\u001b[0;34m\u001b[0m\u001b[0m\n\u001b[0m\u001b[1;32m    281\u001b[0m                 \u001b[0mself\u001b[0m\u001b[0;34m.\u001b[0m\u001b[0m_optimizer_step_code\u001b[0m\u001b[0;34m(\u001b[0m\u001b[0;34m)\u001b[0m\u001b[0;34m\u001b[0m\u001b[0;34m\u001b[0m\u001b[0m\n\u001b[1;32m    282\u001b[0m \u001b[0;34m\u001b[0m\u001b[0m\n",
      "\u001b[0;32m/usr/local/lib/python3.10/dist-packages/torch/optim/optimizer.py\u001b[0m in \u001b[0;36m_use_grad\u001b[0;34m(self, *args, **kwargs)\u001b[0m\n\u001b[1;32m     31\u001b[0m         \u001b[0;32mtry\u001b[0m\u001b[0;34m:\u001b[0m\u001b[0;34m\u001b[0m\u001b[0;34m\u001b[0m\u001b[0m\n\u001b[1;32m     32\u001b[0m             \u001b[0mtorch\u001b[0m\u001b[0;34m.\u001b[0m\u001b[0mset_grad_enabled\u001b[0m\u001b[0;34m(\u001b[0m\u001b[0mself\u001b[0m\u001b[0;34m.\u001b[0m\u001b[0mdefaults\u001b[0m\u001b[0;34m[\u001b[0m\u001b[0;34m'differentiable'\u001b[0m\u001b[0;34m]\u001b[0m\u001b[0;34m)\u001b[0m\u001b[0;34m\u001b[0m\u001b[0;34m\u001b[0m\u001b[0m\n\u001b[0;32m---> 33\u001b[0;31m             \u001b[0mret\u001b[0m \u001b[0;34m=\u001b[0m \u001b[0mfunc\u001b[0m\u001b[0;34m(\u001b[0m\u001b[0mself\u001b[0m\u001b[0;34m,\u001b[0m \u001b[0;34m*\u001b[0m\u001b[0margs\u001b[0m\u001b[0;34m,\u001b[0m \u001b[0;34m**\u001b[0m\u001b[0mkwargs\u001b[0m\u001b[0;34m)\u001b[0m\u001b[0;34m\u001b[0m\u001b[0;34m\u001b[0m\u001b[0m\n\u001b[0m\u001b[1;32m     34\u001b[0m         \u001b[0;32mfinally\u001b[0m\u001b[0;34m:\u001b[0m\u001b[0;34m\u001b[0m\u001b[0;34m\u001b[0m\u001b[0m\n\u001b[1;32m     35\u001b[0m             \u001b[0mtorch\u001b[0m\u001b[0;34m.\u001b[0m\u001b[0mset_grad_enabled\u001b[0m\u001b[0;34m(\u001b[0m\u001b[0mprev_grad\u001b[0m\u001b[0;34m)\u001b[0m\u001b[0;34m\u001b[0m\u001b[0;34m\u001b[0m\u001b[0m\n",
      "\u001b[0;32m/usr/local/lib/python3.10/dist-packages/torch/optim/adam.py\u001b[0m in \u001b[0;36mstep\u001b[0;34m(self, closure)\u001b[0m\n\u001b[1;32m    139\u001b[0m                 state_steps)\n\u001b[1;32m    140\u001b[0m \u001b[0;34m\u001b[0m\u001b[0m\n\u001b[0;32m--> 141\u001b[0;31m             adam(\n\u001b[0m\u001b[1;32m    142\u001b[0m                 \u001b[0mparams_with_grad\u001b[0m\u001b[0;34m,\u001b[0m\u001b[0;34m\u001b[0m\u001b[0;34m\u001b[0m\u001b[0m\n\u001b[1;32m    143\u001b[0m                 \u001b[0mgrads\u001b[0m\u001b[0;34m,\u001b[0m\u001b[0;34m\u001b[0m\u001b[0;34m\u001b[0m\u001b[0m\n",
      "\u001b[0;32m/usr/local/lib/python3.10/dist-packages/torch/optim/adam.py\u001b[0m in \u001b[0;36madam\u001b[0;34m(params, grads, exp_avgs, exp_avg_sqs, max_exp_avg_sqs, state_steps, foreach, capturable, differentiable, fused, grad_scale, found_inf, amsgrad, beta1, beta2, lr, weight_decay, eps, maximize)\u001b[0m\n\u001b[1;32m    279\u001b[0m         \u001b[0mfunc\u001b[0m \u001b[0;34m=\u001b[0m \u001b[0m_single_tensor_adam\u001b[0m\u001b[0;34m\u001b[0m\u001b[0;34m\u001b[0m\u001b[0m\n\u001b[1;32m    280\u001b[0m \u001b[0;34m\u001b[0m\u001b[0m\n\u001b[0;32m--> 281\u001b[0;31m     func(params,\n\u001b[0m\u001b[1;32m    282\u001b[0m          \u001b[0mgrads\u001b[0m\u001b[0;34m,\u001b[0m\u001b[0;34m\u001b[0m\u001b[0;34m\u001b[0m\u001b[0m\n\u001b[1;32m    283\u001b[0m          \u001b[0mexp_avgs\u001b[0m\u001b[0;34m,\u001b[0m\u001b[0;34m\u001b[0m\u001b[0;34m\u001b[0m\u001b[0m\n",
      "\u001b[0;32m/usr/local/lib/python3.10/dist-packages/torch/optim/adam.py\u001b[0m in \u001b[0;36m_single_tensor_adam\u001b[0;34m(params, grads, exp_avgs, exp_avg_sqs, max_exp_avg_sqs, state_steps, grad_scale, found_inf, amsgrad, beta1, beta2, lr, weight_decay, eps, maximize, capturable, differentiable)\u001b[0m\n\u001b[1;32m    342\u001b[0m \u001b[0;34m\u001b[0m\u001b[0m\n\u001b[1;32m    343\u001b[0m         \u001b[0;31m# Decay the first and second moment running average coefficient\u001b[0m\u001b[0;34m\u001b[0m\u001b[0;34m\u001b[0m\u001b[0m\n\u001b[0;32m--> 344\u001b[0;31m         \u001b[0mexp_avg\u001b[0m\u001b[0;34m.\u001b[0m\u001b[0mmul_\u001b[0m\u001b[0;34m(\u001b[0m\u001b[0mbeta1\u001b[0m\u001b[0;34m)\u001b[0m\u001b[0;34m.\u001b[0m\u001b[0madd_\u001b[0m\u001b[0;34m(\u001b[0m\u001b[0mgrad\u001b[0m\u001b[0;34m,\u001b[0m \u001b[0malpha\u001b[0m\u001b[0;34m=\u001b[0m\u001b[0;36m1\u001b[0m \u001b[0;34m-\u001b[0m \u001b[0mbeta1\u001b[0m\u001b[0;34m)\u001b[0m\u001b[0;34m\u001b[0m\u001b[0;34m\u001b[0m\u001b[0m\n\u001b[0m\u001b[1;32m    345\u001b[0m         \u001b[0mexp_avg_sq\u001b[0m\u001b[0;34m.\u001b[0m\u001b[0mmul_\u001b[0m\u001b[0;34m(\u001b[0m\u001b[0mbeta2\u001b[0m\u001b[0;34m)\u001b[0m\u001b[0;34m.\u001b[0m\u001b[0maddcmul_\u001b[0m\u001b[0;34m(\u001b[0m\u001b[0mgrad\u001b[0m\u001b[0;34m,\u001b[0m \u001b[0mgrad\u001b[0m\u001b[0;34m.\u001b[0m\u001b[0mconj\u001b[0m\u001b[0;34m(\u001b[0m\u001b[0;34m)\u001b[0m\u001b[0;34m,\u001b[0m \u001b[0mvalue\u001b[0m\u001b[0;34m=\u001b[0m\u001b[0;36m1\u001b[0m \u001b[0;34m-\u001b[0m \u001b[0mbeta2\u001b[0m\u001b[0;34m)\u001b[0m\u001b[0;34m\u001b[0m\u001b[0;34m\u001b[0m\u001b[0m\n\u001b[1;32m    346\u001b[0m \u001b[0;34m\u001b[0m\u001b[0m\n",
      "\u001b[0;31mKeyboardInterrupt\u001b[0m: "
     ]
    }
   ],
   "source": [
    "from collections import deque\n",
    "epochs = 5000 #訓練5000次\n",
    "losses = []\n",
    "mem_size = 1000 #設定記憶串列的大小\n",
    "batch_size = 200 #設定單一小批次（mini_batch）的大小\n",
    "replay = deque(maxlen=mem_size) #產生一個記憶串列（資料型別為deque）來儲存經驗回放的資料，並將其命名為replay\n",
    "max_moves = 50 #設定每場遊戲最多可以走幾步\n",
    "for i in range(epochs):\n",
    "  game = Gridworld(size=4, mode='random')\n",
    "  state1_ = game.board.render_np().reshape(1,64) + np.random.rand(1,64)/100.0\n",
    "  state1 = torch.from_numpy(state1_).float()\n",
    "  status = 1\n",
    "  mov = 0 #記錄移動的步數，初始化為0\n",
    "  while(status == 1): \n",
    "    mov += 1\n",
    "    qval = model(state1) #輸出各動作的Q值\n",
    "    qval_ = qval.data.numpy()\n",
    "    if (random.random() < epsilon):\n",
    "      action_ = np.random.randint(0,4)\n",
    "    else:\n",
    "      action_ = np.argmax(qval_)     \n",
    "    action = action_set[action_]\n",
    "    game.makeMove(action)\n",
    "    state2_ = game.board.render_np().reshape(1,64) + np.random.rand(1,64)/100.0\n",
    "    state2 = torch.from_numpy(state2_).float()\n",
    "    reward = game.reward()\n",
    "    done = True if reward != -1 else False #在reward不等於-1時設定done=True，代表遊戲已經結束了（分出勝負時，reward會等於10或-10）\n",
    "    exp = (state1, action_, reward, state2, done) #產生一筆經驗，其中包含當前狀態、動作、新狀態、回饋值及done值\n",
    "    replay.append(exp) #將該經驗加入名為replay的deque串列中\n",
    "    state1 = state2 #產生的新狀態會變成下一次訓練時的輸入狀態      \n",
    "    if len(replay) > batch_size: #當replay的長度大於小批次量（mini-batch size）時，啟動小批次訓練\n",
    "      minibatch = random.sample(replay, batch_size) #隨機選擇replay中的資料來組成子集\n",
    "      state1_batch = torch.cat([s1 for (s1,a,r,s2,d) in minibatch]) #將經驗中的不同元素分別儲存到對應的小批次張量中\n",
    "      action_batch = torch.Tensor([a for (s1,a,r,s2,d) in minibatch])\n",
    "      reward_batch = torch.Tensor([r for (s1,a,r,s2,d) in minibatch])\n",
    "      state2_batch = torch.cat([s2 for (s1,a,r,s2,d) in minibatch]) \n",
    "      done_batch = torch.Tensor([d for (s1,a,r,s2,d) in minibatch])            \n",
    "      Q1 = model(state1_batch) #利用小批次資料中的『目前狀態批次』來計算Q值3\n",
    "      with torch.no_grad():\n",
    "        Q2 = model(state2_batch) #利用小批次資料中的新狀態來計算Q值，但設定為不需要計算梯度         \n",
    "      Y = reward_batch + gamma * ((1 - done_batch) * torch.max(Q2,dim=1)[0]) #計算我們希望DQN學習的目標Q值\n",
    "      X = Q1.gather(dim=1,index=action_batch.long().unsqueeze(dim=1)).squeeze() \n",
    "      loss = loss_fn(X, Y.detach())\n",
    "      print(i, loss.item())\n",
    "      clear_output(wait=True)\n",
    "      optimizer.zero_grad()\n",
    "      loss.backward()\n",
    "      optimizer.step()\n",
    "    if abs(reward) == 10 or mov > max_moves:\n",
    "      status = 0\n",
    "      mov = 0 #若遊戲結束，則重設status和mov變數的值\n",
    "    losses.append(loss.item())\n",
    "  if epsilon > 0.1: \n",
    "    epsilon -= (1/epochs) #讓ε的值隨著訓練的進行而慢慢下降，直到0.1（還是要保留探索的動作）\n",
    "losses = np.array(losses)\n",
    "plt.figure(figsize=(10,7))\n",
    "plt.plot(losses)\n",
    "plt.xlabel(\"Steps\",fontsize=11)\n",
    "plt.ylabel(\"Loss\",fontsize=11)"
   ]
  },
  {
   "cell_type": "markdown",
   "metadata": {
    "id": "mZb8Yhhc_jff"
   },
   "source": [
    "## 小編補充：gather()和unsqueeze()的函式說明"
   ]
  },
  {
   "cell_type": "code",
   "execution_count": null,
   "metadata": {
    "id": "beZudq_h_qfT"
   },
   "outputs": [],
   "source": [
    "t = torch.Tensor([ [1, 2, 3],\n",
    "          [4, 5, 6],\n",
    "          [7, 8, 9]])\n",
    "indices = torch.Tensor([ [2],\n",
    "            [0],\n",
    "            [1]])\n",
    "torch.gather(input=t,dim=1,index=indices.long())"
   ]
  },
  {
   "cell_type": "code",
   "execution_count": null,
   "metadata": {
    "id": "WVUHKcTZ_iwZ"
   },
   "outputs": [],
   "source": [
    "x = torch.tensor([1,2,3,4])\n",
    "y = torch.unsqueeze(input=x, dim=0) #在x張量的第0階加入一個1維的階\n",
    "print(y.shape)"
   ]
  },
  {
   "cell_type": "markdown",
   "metadata": {
    "id": "gvcjO0ok9ugy"
   },
   "source": [
    "# 程式 3.6：測試具備經驗回放機制的模型"
   ]
  },
  {
   "cell_type": "code",
   "execution_count": null,
   "metadata": {
    "id": "QsHT8gw1980b"
   },
   "outputs": [],
   "source": [
    "max_games = 1000 #模擬1000次遊戲\n",
    "wins = 0\n",
    "for i in range(max_games):\n",
    "  win = test_model(model, mode='random') #利用random模式來進行測試\n",
    "  if win:\n",
    "    wins += 1\n",
    "win_perc = float(wins) / float(max_games)\n",
    "print(\"Games played: {0}, # of wins: {1}\".format(max_games,wins))\n",
    "print(\"Win percentage: {}%\".format(100.0*win_perc)) #顯示勝率"
   ]
  },
  {
   "cell_type": "markdown",
   "metadata": {
    "id": "W6ad_66j-D_C"
   },
   "source": [
    "# 程式 3.7： 目標網路 (解決 Overestimate Q 的問題)"
   ]
  },
  {
   "cell_type": "code",
   "execution_count": null,
   "metadata": {
    "id": "HRC4eZcF-HNf"
   },
   "outputs": [],
   "source": [
    "import copy\n",
    "\n",
    "L1 = 64\n",
    "L2 = 150\n",
    "L3 = 100\n",
    "L4 = 4\n",
    "\n",
    "model = torch.nn.Sequential(\n",
    "    torch.nn.Linear(L1, L2),\n",
    "    torch.nn.ReLU(),\n",
    "    torch.nn.Linear(L2, L3),\n",
    "    torch.nn.ReLU(),\n",
    "    torch.nn.Linear(L3,L4)\n",
    ")\n",
    "\n",
    "model2 = copy.deepcopy(model) #完整複製原始Q網路模型，產生目標網路模型\n",
    "model2.load_state_dict(model.state_dict()) #將原始Q網路中的參數複製給目標網路\n",
    "loss_fn = torch.nn.MSELoss()\n",
    "learning_rate = 1e-3\n",
    "optimizer = torch.optim.Adam(model.parameters(), lr=learning_rate)\n",
    "\n",
    "gamma = 0.9\n",
    "epsilon = 1.0\n"
   ]
  },
  {
   "cell_type": "markdown",
   "metadata": {
    "id": "Z8Ywra_v-SzE"
   },
   "source": [
    "# 程式 3.8： 利用經驗回放和目標網路訓練DQN"
   ]
  },
  {
   "cell_type": "code",
   "execution_count": null,
   "metadata": {
    "id": "AAPUfCgV-WL9"
   },
   "outputs": [],
   "source": [
    "from collections import deque\n",
    "epochs = 5000\n",
    "losses = []\n",
    "mem_size = 1000 #設定記憶串列的大小\n",
    "batch_size = 200 #設定批次大小\n",
    "replay = deque(maxlen=mem_size)\n",
    "max_moves = 50\n",
    "sync_freq = 500 #設定Q網路和目標網路的參數同步頻率（每500步就同步一次參數）\n",
    "j=0 #記錄當前訓練次數\n",
    "for i in range(epochs):\n",
    "  game = Gridworld(size=4, mode='random')\n",
    "  state1_ = game.board.render_np().reshape(1,64) + np.random.rand(1,64)/100.0\n",
    "  state1 = torch.from_numpy(state1_).float()\n",
    "  status = 1\n",
    "  mov = 0\n",
    "  while(status == 1): \n",
    "    j+=1 #將訓練次數加1\n",
    "    mov += 1\n",
    "    qval = model(state1)\n",
    "    qval_ = qval.data.numpy()\n",
    "    if (random.random() < epsilon):\n",
    "      action_ = np.random.randint(0,4)\n",
    "    else:\n",
    "      action_ = np.argmax(qval_)\n",
    "    action = action_set[action_]\n",
    "    game.makeMove(action)\n",
    "    state2_ = game.board.render_np().reshape(1,64) + np.random.rand(1,64)/100.0\n",
    "    state2 = torch.from_numpy(state2_).float()\n",
    "    reward = game.reward()\n",
    "    done = True if reward != -1 else False\n",
    "    exp =  (state1, action_, reward, state2, done)\n",
    "    replay.append(exp) \n",
    "    state1 = state2      \n",
    "    if len(replay) > batch_size:\n",
    "      minibatch = random.sample(replay, batch_size)\n",
    "      state1_batch = torch.cat([s1 for (s1,a,r,s2,d) in minibatch])\n",
    "      action_batch = torch.Tensor([a for (s1,a,r,s2,d) in minibatch])\n",
    "      reward_batch = torch.Tensor([r for (s1,a,r,s2,d) in minibatch])\n",
    "      state2_batch = torch.cat([s2 for (s1,a,r,s2,d) in minibatch])\n",
    "      done_batch = torch.Tensor([d for (s1,a,r,s2,d) in minibatch])\n",
    "      Q1 = model(state1_batch) \n",
    "      with torch.no_grad():     #用目標網路模型計算Q值, 但不要優化模型的參數\n",
    "        Q2 = model2(state2_batch) \n",
    "      Y = reward_batch + gamma * ((1-done_batch) * torch.max(Q2,dim=1)[0])\n",
    "      X = Q1.gather(dim=1,index=action_batch.long().unsqueeze(dim=1)).squeeze()\n",
    "      loss = loss_fn(X, Y.detach())\n",
    "      print(i, loss.item())\n",
    "      clear_output(wait=True)\n",
    "      optimizer.zero_grad()\n",
    "      loss.backward()\n",
    "      optimizer.step()        \n",
    "      if j % sync_freq == 0: #每500步，就將Q網路當前的參數複製一份給目標網路\n",
    "        model2.load_state_dict(model.state_dict())\n",
    "    if reward != -1 or mov > max_moves:\n",
    "      status = 0 \n",
    "      mov = 0\n",
    "    losses.append(loss.item())  \n",
    "  if epsilon > 0.1: \n",
    "    epsilon -= (1/epochs) #讓ε的值隨著訓練的進行而慢慢下降，直到0.1（還是要保留探索的動作）    \n",
    "plt.figure(figsize=(10,7))\n",
    "plt.plot(losses)\n",
    "plt.xlabel(\"Steps\",fontsize=11)\n",
    "plt.ylabel(\"Loss\",fontsize=11)"
   ]
  },
  {
   "cell_type": "markdown",
   "metadata": {
    "id": "m6xom6noAfAC"
   },
   "source": [
    "## 測試勝率"
   ]
  },
  {
   "cell_type": "code",
   "execution_count": null,
   "metadata": {
    "id": "c6c44M3FAcuF"
   },
   "outputs": [],
   "source": [
    "max_games = 1000\n",
    "wins = 0\n",
    "for i in range(max_games):\n",
    "    win = test_model(model, mode='random')\n",
    "    if win:\n",
    "      wins += 1\n",
    "win_perc = float(wins) / float(max_games)\n",
    "print(\"Games played: {0}, # of wins: {1}\".format(max_games,wins))\n",
    "print(\"Win percentage: {}%\".format(100.0*win_perc)) #顯示勝率"
   ]
  },
  {
   "cell_type": "markdown",
   "metadata": {
    "id": "o0U5H3QXVegS"
   },
   "source": [
    "# 程式 3.5 改良版 （加入『學習避免撞牆』機制）"
   ]
  },
  {
   "cell_type": "code",
   "execution_count": null,
   "metadata": {
    "id": "O25ZUhH2ViXz"
   },
   "outputs": [],
   "source": [
    "model = torch.nn.Sequential(\n",
    "    torch.nn.Linear(L1, L2), #第一隱藏層\n",
    "    torch.nn.ReLU(),\n",
    "    torch.nn.Linear(L2, L3), #第二隱藏層\n",
    "    torch.nn.ReLU(),\n",
    "    torch.nn.Linear(L3,L4) #輸出層\n",
    ")\n",
    "loss_fn = torch.nn.MSELoss()\n",
    "learning_rate = 1e-3  #超參數『α』\n",
    "optimizer = torch.optim.Adam(model.parameters(), lr=learning_rate) #model.parameters()會傳回所有要優化的權重參數\n",
    "\n",
    "gamma = 0.9\n",
    "epsilon = 1.0\n",
    "\n",
    "#————————————————\n",
    "\n",
    "from collections import deque\n",
    "epochs = 5000\n",
    "losses = []\n",
    "mem_size = 1000 #設定記憶串列的大小\n",
    "batch_size = 200 #設定單一小批次（mini_batch）的大小\n",
    "move_pos = [(-1,0),(1,0),(0,-1),(0,1)]   #●移動方向 u,d,l,r 的實際移動向量 \n",
    "replay = deque(maxlen=mem_size) #產生一個deque串列來儲存經驗回放的資料\n",
    "max_moves = 50 #設定每場遊戲最多可以走幾步\n",
    "for i in range(epochs):\n",
    "  game = Gridworld(size=4, mode='random')\n",
    "  state1_ = game.board.render_np().reshape(1,64) + np.random.rand(1,64)/100.0\n",
    "  state1 = torch.from_numpy(state1_).float()\n",
    "  status = 1\n",
    "  mov = 0 #移動的步數\n",
    "  while(status == 1): \n",
    "    mov += 1\n",
    "    qval = model(state1) #輸出各動作的Q值\n",
    "    qval_ = qval.data.numpy()\n",
    "    if (random.random() < epsilon):\n",
    "      action_ = np.random.randint(0,4)\n",
    "    else:\n",
    "      action_ = np.argmax(qval_)    \n",
    "    hit_wall = game.validateMove('Player', move_pos[action_]) == 1 #●若有撞牆的動作，hit_wall就為True\n",
    "    action = action_set[action_]\n",
    "    game.makeMove(action)\n",
    "    state2_ = game.board.render_np().reshape(1,64) + np.random.rand(1,64)/100.0\n",
    "    state2 = torch.from_numpy(state2_).float()\n",
    "    reward = -5 if hit_wall else game.reward() #●2.若撞牆回饋-5\n",
    "    done = True if reward != -1 else False #在reward不等於-1時設定done=True，代表遊戲已經結束了（分出勝負時，reward會等於10或-10）\n",
    "    exp = (state1, action_, reward, state2, done) #產生一筆經驗，其中包含當前狀態、動作、新狀態、回饋值及done值\n",
    "    replay.append(exp) #將該經驗加入名為replay的deque串列中\n",
    "    state1 = state2 #產生的新狀態會變成下一次訓練時的輸入狀態          \n",
    "    if len(replay) > batch_size: #當replay的長度大於小批次量（mini-batch size）時，啟動小批次訓練\n",
    "      minibatch = random.sample(replay, batch_size) #隨機選擇replay中的資料來組成子集\n",
    "      state1_batch = torch.cat([s1 for (s1,a,r,s2,d) in minibatch]) #{5}將經驗中的不同元素分別儲存到對應的小批次張量中\n",
    "      action_batch = torch.Tensor([a for (s1,a,r,s2,d) in minibatch])\n",
    "      reward_batch = torch.Tensor([r for (s1,a,r,s2,d) in minibatch])\n",
    "      state2_batch = torch.cat([s2 for (s1,a,r,s2,d) in minibatch]) \n",
    "      done_batch = torch.Tensor([d for (s1,a,r,s2,d) in minibatch])            \n",
    "      Q1 = model(state1_batch) #利用小批次資料中的目前狀態來計算Q值\n",
    "      with torch.no_grad():\n",
    "        Q2 = model(state2_batch) #利用小批次資料中的新狀態來計算Q值，但設定為不需要計算梯度         \n",
    "      Y = reward_batch + gamma * ((1 - done_batch) * torch.max(Q2,dim=1)[0]) #計算我們希望DQN學習的目標Q值\n",
    "      X = Q1.gather(dim=1,index=action_batch.long().unsqueeze(dim=1)).squeeze() #gather()及unsqueeze()函式的用途可參見下面的小編補充框 \n",
    "      loss = loss_fn(X, Y.detach())\n",
    "      if i%100 == 0:\n",
    "        print(i, loss.item())\n",
    "        clear_output(wait=True)             \n",
    "      optimizer.zero_grad()\n",
    "      loss.backward()            \n",
    "      losses.append(loss.item())\n",
    "      optimizer.step()\n",
    "    if abs(reward) == 10 or mov > max_moves:\n",
    "      status = 0\n",
    "      mov = 0 #若遊戲結束，則重設status和mov變數的值\n",
    "  if epsilon > 0.1:\n",
    "    epsilon -= (1/epochs) #讓ε的值隨著訓練的進行而慢慢下降，直到0.1（還是要保留探索的動作）\n",
    "losses = np.array(losses)\n",
    "plt.figure(figsize=(10,7))\n",
    "plt.plot(losses)\n",
    "plt.xlabel(\"Steps\",fontsize=11)\n",
    "plt.ylabel(\"Loss\",fontsize=11)\n",
    "\n",
    "#——————————————\n",
    "\n",
    "max_games = 1000\n",
    "wins = 0\n",
    "for i in range(max_games):\n",
    "  win = test_model(model, mode='random')\n",
    "  if win:\n",
    "    wins += 1\n",
    "win_perc = float(wins) / float(max_games)\n",
    "print(\"Games played: {0}, # of wins: {1}\".format(max_games,wins))\n",
    "print(\"Win percentage: {}%\".format(100.0*win_perc)) #顯示勝率"
   ]
  }
 ],
 "metadata": {
  "accelerator": "GPU",
  "colab": {
   "provenance": []
  },
  "kernelspec": {
   "display_name": "Python 3",
   "language": "python",
   "name": "python3"
  },
  "language_info": {
   "codemirror_mode": {
    "name": "ipython",
    "version": 3
   },
   "file_extension": ".py",
   "mimetype": "text/x-python",
   "name": "python",
   "nbconvert_exporter": "python",
   "pygments_lexer": "ipython3",
   "version": "3.8.3"
  }
 },
 "nbformat": 4,
 "nbformat_minor": 0
}
